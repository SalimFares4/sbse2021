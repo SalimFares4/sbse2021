{
 "cells": [
  {
   "cell_type": "markdown",
   "metadata": {},
   "source": [
    "# Random and Local Search"
   ]
  },
  {
   "cell_type": "markdown",
   "metadata": {},
   "source": [
    "## Random Search"
   ]
  },
  {
   "cell_type": "markdown",
   "metadata": {},
   "source": [
    "Before we can code, some imports: We are considering randomised algorithms, and we want to plot results. To run this notebook, you will also need matplotlib, numpy, and scipy installed."
   ]
  },
  {
   "cell_type": "code",
   "execution_count": 1,
   "metadata": {},
   "outputs": [],
   "source": [
    "import matplotlib.pyplot as plt\n",
    "import random"
   ]
  },
  {
   "cell_type": "markdown",
   "metadata": {},
   "source": [
    "We will start with the One-Max problem: The aim of this optimisation problem is to find a binary vector of length `n` such that all elements are `1`. The solution is obvious to us, but not to a search algorithm. We first need to decide on a specific length of `n` for our experiments."
   ]
  },
  {
   "cell_type": "code",
   "execution_count": 2,
   "metadata": {},
   "outputs": [],
   "source": [
    "n = 20"
   ]
  },
  {
   "cell_type": "markdown",
   "metadata": {},
   "source": [
    "In order to do any kind of random search, we need to be able to randomly sample solutions from the search space."
   ]
  },
  {
   "cell_type": "code",
   "execution_count": 3,
   "metadata": {},
   "outputs": [],
   "source": [
    "def get_random_solution():\n",
    "    return [random.choice([0,1]) for _ in range(n)]"
   ]
  },
  {
   "cell_type": "markdown",
   "metadata": {},
   "source": [
    "Now we can look at an example solution from our search space:"
   ]
  },
  {
   "cell_type": "code",
   "execution_count": 4,
   "metadata": {},
   "outputs": [
    {
     "data": {
      "text/plain": [
       "[1, 0, 0, 0, 0, 0, 0, 1, 0, 1, 1, 0, 1, 0, 1, 1, 0, 1, 1, 0]"
      ]
     },
     "execution_count": 4,
     "metadata": {},
     "output_type": "execute_result"
    }
   ],
   "source": [
    "get_random_solution()"
   ]
  },
  {
   "cell_type": "markdown",
   "metadata": {},
   "source": [
    "Every invocation will produce a different individual"
   ]
  },
  {
   "cell_type": "code",
   "execution_count": 5,
   "metadata": {},
   "outputs": [
    {
     "data": {
      "text/plain": [
       "[0, 0, 1, 1, 1, 0, 1, 0, 1, 0, 1, 0, 1, 1, 1, 0, 1, 0, 1, 0]"
      ]
     },
     "execution_count": 5,
     "metadata": {},
     "output_type": "execute_result"
    }
   ],
   "source": [
    "get_random_solution()"
   ]
  },
  {
   "cell_type": "markdown",
   "metadata": {},
   "source": [
    "To solve an optimisation problem, we also need an objective function, or _fitness function_, that quantifies how good a particular solution is with respect to the optimisation problem we are trying to solve. For our example one max problem, we can estimate how close we are to solving the problem by counting the number of `1`s in our solution."
   ]
  },
  {
   "cell_type": "code",
   "execution_count": 6,
   "metadata": {},
   "outputs": [],
   "source": [
    "def get_fitness(solution):\n",
    "    return sum(solution)"
   ]
  },
  {
   "cell_type": "code",
   "execution_count": 7,
   "metadata": {},
   "outputs": [
    {
     "data": {
      "text/plain": [
       "0"
      ]
     },
     "execution_count": 7,
     "metadata": {},
     "output_type": "execute_result"
    }
   ],
   "source": [
    "get_fitness([0,0,0,0,0])"
   ]
  },
  {
   "cell_type": "code",
   "execution_count": 8,
   "metadata": {},
   "outputs": [
    {
     "data": {
      "text/plain": [
       "3"
      ]
     },
     "execution_count": 8,
     "metadata": {},
     "output_type": "execute_result"
    }
   ],
   "source": [
    "get_fitness([1,1,1,0,0])"
   ]
  },
  {
   "cell_type": "markdown",
   "metadata": {},
   "source": [
    "We will keep track of what the search does; for this I'm simply using a plain list that contains the best fitness value observed at each iteration of the search."
   ]
  },
  {
   "cell_type": "code",
   "execution_count": 9,
   "metadata": {},
   "outputs": [],
   "source": [
    "fitness_values = []"
   ]
  },
  {
   "cell_type": "markdown",
   "metadata": {},
   "source": [
    "In some cases, we know when we have found an optimal solution; sometimes we don't. Sometimes it may also take very long to find the optimal solution, therefore we limit the search with some _stopping criterion_. We will start by running the search for a fixed number of steps."
   ]
  },
  {
   "cell_type": "code",
   "execution_count": 10,
   "metadata": {},
   "outputs": [],
   "source": [
    "max_steps = 100"
   ]
  },
  {
   "cell_type": "markdown",
   "metadata": {},
   "source": [
    "The following implements our first metaheuristic: _Random Search_. It's not a particularly intelligent one, but it will be the baseline we are going to compare against from now on. If the fitness landscape is bad, this algorithm may actually be better than many other metaheuristics."
   ]
  },
  {
   "cell_type": "code",
   "execution_count": 11,
   "metadata": {},
   "outputs": [],
   "source": [
    "def randomsearch():\n",
    "\n",
    "    best = None\n",
    "    best_fitness = -1\n",
    "\n",
    "    for step in range(max_steps):\n",
    "        candidate = get_random_solution()\n",
    "        fitness = get_fitness(candidate)\n",
    "        if fitness > best_fitness:\n",
    "            best = candidate\n",
    "            best_fitness = fitness\n",
    "            print(f\"Iteration {step}, fitness {fitness}: {candidate}\")\n",
    "        fitness_values.append(best_fitness)\n",
    "\n",
    "    print(f\"Solution fitness {best_fitness}: {best}\")\n",
    "    return best"
   ]
  },
  {
   "cell_type": "markdown",
   "metadata": {},
   "source": [
    "Before invoking it, we also have to reset our list of fitness values."
   ]
  },
  {
   "cell_type": "code",
   "execution_count": 12,
   "metadata": {},
   "outputs": [
    {
     "name": "stdout",
     "output_type": "stream",
     "text": [
      "Iteration 0, fitness 8: [0, 1, 0, 0, 1, 0, 0, 0, 1, 0, 0, 1, 0, 1, 0, 0, 1, 1, 1, 0]\n",
      "Iteration 1, fitness 12: [1, 0, 1, 0, 0, 0, 0, 1, 1, 0, 1, 1, 1, 1, 1, 1, 1, 0, 1, 0]\n",
      "Iteration 2, fitness 13: [0, 1, 1, 0, 1, 0, 1, 1, 1, 0, 1, 0, 1, 1, 0, 1, 1, 0, 1, 1]\n",
      "Iteration 17, fitness 14: [1, 0, 0, 1, 1, 0, 1, 1, 0, 1, 1, 1, 0, 1, 0, 1, 1, 1, 1, 1]\n",
      "Iteration 75, fitness 15: [1, 1, 1, 1, 1, 1, 1, 1, 0, 1, 1, 0, 1, 0, 1, 1, 0, 0, 1, 1]\n",
      "Solution fitness 15: [1, 1, 1, 1, 1, 1, 1, 1, 0, 1, 1, 0, 1, 0, 1, 1, 0, 0, 1, 1]\n"
     ]
    },
    {
     "data": {
      "text/plain": [
       "[1, 1, 1, 1, 1, 1, 1, 1, 0, 1, 1, 0, 1, 0, 1, 1, 0, 0, 1, 1]"
      ]
     },
     "execution_count": 12,
     "metadata": {},
     "output_type": "execute_result"
    }
   ],
   "source": [
    "fitness_values = []\n",
    "randomsearch()"
   ]
  },
  {
   "cell_type": "markdown",
   "metadata": {},
   "source": [
    "We kept track of the best solution found throughout the search, and we will use this information to learn about the progress, and compare search algorithms. Therefore, we are going to visualise it."
   ]
  },
  {
   "cell_type": "code",
   "execution_count": 13,
   "metadata": {},
   "outputs": [
    {
     "data": {
      "text/plain": [
       "[<matplotlib.lines.Line2D at 0x1090b5370>]"
      ]
     },
     "execution_count": 13,
     "metadata": {},
     "output_type": "execute_result"
    },
    {
     "data": {
      "image/png": "[encoded data removed]",
      "text/plain": [
       "<Figure size 432x288 with 1 Axes>"
      ]
     },
     "metadata": {
      "needs_background": "light"
     },
     "output_type": "display_data"
    }
   ],
   "source": [
    "import matplotlib.pyplot as plt\n",
    "plt.plot(fitness_values)"
   ]
  },
  {
   "cell_type": "markdown",
   "metadata": {},
   "source": [
    "If you re-run the search multiple times you will get different results, but even for small values of `n` the random search will rarely find an optimal solution."
   ]
  },
  {
   "cell_type": "markdown",
   "metadata": {},
   "source": [
    "Random search is a _global_ search algorithm -- it considers the entire search space. An alternative strategy is to consider the local neighbourhood of candidate solutions, resulting in _local_ search algorithms. As a naive baseline, we can change our random search to a local random search, also known as a _random walk_. A random walk consists of repeatedly picking a random neighbour for a given candidate solution, therefore we need to define a function that picks a random neighbour; that is, a solution which differs only in a single step (in our case, a bit-flip)."
   ]
  },
  {
   "cell_type": "code",
   "execution_count": 14,
   "metadata": {},
   "outputs": [],
   "source": [
    "def get_neighbour(candidate):\n",
    "    pos = random.randint(0, len(candidate) - 1)\n",
    "    copy = candidate[:]\n",
    "    copy[pos] = 1 - copy[pos]\n",
    "    return copy"
   ]
  },
  {
   "cell_type": "code",
   "execution_count": 15,
   "metadata": {},
   "outputs": [
    {
     "data": {
      "text/plain": [
       "[0, 0, 0, 0, 0, 1, 0, 1, 0, 0]"
      ]
     },
     "execution_count": 15,
     "metadata": {},
     "output_type": "execute_result"
    }
   ],
   "source": [
    "get_neighbour([0,0,0,0,0,1,0,0,0,0])"
   ]
  },
  {
   "cell_type": "code",
   "execution_count": 16,
   "metadata": {},
   "outputs": [
    {
     "data": {
      "text/plain": [
       "[1, 0, 0, 0, 0, 1, 0, 0, 0, 0]"
      ]
     },
     "execution_count": 16,
     "metadata": {},
     "output_type": "execute_result"
    }
   ],
   "source": [
    "get_neighbour([0,0,0,0,0,1,0,0,0,0])"
   ]
  },
  {
   "cell_type": "code",
   "execution_count": 17,
   "metadata": {},
   "outputs": [
    {
     "data": {
      "text/plain": [
       "[1, 0, 0, 0, 0, 1, 0, 0, 0, 0]"
      ]
     },
     "execution_count": 17,
     "metadata": {},
     "output_type": "execute_result"
    }
   ],
   "source": [
    "get_neighbour([0,0,0,0,0,1,0,0,0,0])"
   ]
  },
  {
   "cell_type": "markdown",
   "metadata": {},
   "source": [
    "To do a random walk, we start at a random solution, and repeatedly pick a random neighbour. Along the search, we keep track of the best solution found."
   ]
  },
  {
   "cell_type": "code",
   "execution_count": 18,
   "metadata": {},
   "outputs": [],
   "source": [
    "def randomwalk():\n",
    "    current = get_random_solution()\n",
    "    fitness = get_fitness(current)\n",
    "\n",
    "    best = current[:]\n",
    "    best_fitness = fitness\n",
    "    print(\"Starting at fitness {}: {}\".format(fitness, current))\n",
    "\n",
    "    for step in range(max_steps):\n",
    "        current = get_neighbour(current)\n",
    "        fitness = get_fitness(current)\n",
    "\n",
    "        if fitness > best_fitness:\n",
    "            best = current\n",
    "            best_fitness = fitness\n",
    "            print(\"Iteration {}, fitness {}: {}\".format(step, fitness, current))\n",
    "        fitness_values.append(best_fitness)\n",
    "\n",
    "    print(\"Solution fitness {}: {}\".format(best_fitness, best))\n",
    "    return best"
   ]
  },
  {
   "cell_type": "code",
   "execution_count": 19,
   "metadata": {},
   "outputs": [
    {
     "name": "stdout",
     "output_type": "stream",
     "text": [
      "Starting at fitness 11: [0, 1, 0, 1, 1, 1, 1, 1, 1, 0, 1, 0, 1, 0, 0, 1, 0, 0, 0, 1]\n",
      "Iteration 12, fitness 12: [1, 0, 1, 0, 1, 1, 1, 1, 1, 0, 1, 1, 0, 0, 0, 1, 0, 0, 1, 1]\n",
      "Iteration 15, fitness 13: [1, 0, 1, 0, 1, 1, 1, 1, 1, 0, 1, 1, 1, 0, 0, 1, 0, 0, 1, 1]\n",
      "Iteration 16, fitness 14: [1, 0, 1, 0, 1, 1, 1, 1, 1, 0, 1, 1, 1, 0, 0, 1, 1, 0, 1, 1]\n",
      "Solution fitness 14: [1, 0, 1, 0, 1, 1, 1, 1, 1, 0, 1, 1, 1, 0, 0, 1, 1, 0, 1, 1]\n"
     ]
    },
    {
     "data": {
      "text/plain": [
       "[1, 0, 1, 0, 1, 1, 1, 1, 1, 0, 1, 1, 1, 0, 0, 1, 1, 0, 1, 1]"
      ]
     },
     "execution_count": 19,
     "metadata": {},
     "output_type": "execute_result"
    }
   ],
   "source": [
    "fitness_values = []\n",
    "randomwalk()"
   ]
  },
  {
   "cell_type": "code",
   "execution_count": 20,
   "metadata": {},
   "outputs": [
    {
     "data": {
      "text/plain": [
       "[<matplotlib.lines.Line2D at 0x1091cf3a0>]"
      ]
     },
     "execution_count": 20,
     "metadata": {},
     "output_type": "execute_result"
    },
    {
     "data": {
      "image/png": "[encoded data removed]",
      "text/plain": [
       "<Figure size 432x288 with 1 Axes>"
      ]
     },
     "metadata": {
      "needs_background": "light"
     },
     "output_type": "display_data"
    }
   ],
   "source": [
    "plt.plot(fitness_values)"
   ]
  },
  {
   "cell_type": "markdown",
   "metadata": {},
   "source": [
    "A random walk usually isn't well suited as an actual search algorithm, it tends to produce even worse solutions than the random search (at least on one max). However, we can now generalize the idea of exploring the neighbourhood to construct some actual local search algoritms."
   ]
  },
  {
   "cell_type": "markdown",
   "metadata": {},
   "source": [
    "## Local Search"
   ]
  },
  {
   "cell_type": "markdown",
   "metadata": {},
   "source": [
    "A local search algorithm consists of (1) a definition of the neighbourhood for a candidate solution, and (2) an exploration operator that picks the next step in the neighbourhood. The neighbourhood is the set of solutions that one can reach from a candidate solution in one step -- in our case, with a single bit flip:"
   ]
  },
  {
   "cell_type": "code",
   "execution_count": 21,
   "metadata": {},
   "outputs": [],
   "source": [
    "def get_neighbours(candidate):\n",
    "    neighbours = []\n",
    "    for pos in range(len(candidate)):\n",
    "        copy = candidate[:]\n",
    "        copy[pos] = 1 - copy[pos]\n",
    "        neighbours.append(copy)\n",
    "    return neighbours"
   ]
  },
  {
   "cell_type": "code",
   "execution_count": 22,
   "metadata": {},
   "outputs": [
    {
     "data": {
      "text/plain": [
       "[[1, 0, 0, 0, 0, 1, 0, 0, 0, 0],\n",
       " [0, 1, 0, 0, 0, 1, 0, 0, 0, 0],\n",
       " [0, 0, 1, 0, 0, 1, 0, 0, 0, 0],\n",
       " [0, 0, 0, 1, 0, 1, 0, 0, 0, 0],\n",
       " [0, 0, 0, 0, 1, 1, 0, 0, 0, 0],\n",
       " [0, 0, 0, 0, 0, 0, 0, 0, 0, 0],\n",
       " [0, 0, 0, 0, 0, 1, 1, 0, 0, 0],\n",
       " [0, 0, 0, 0, 0, 1, 0, 1, 0, 0],\n",
       " [0, 0, 0, 0, 0, 1, 0, 0, 1, 0],\n",
       " [0, 0, 0, 0, 0, 1, 0, 0, 0, 1]]"
      ]
     },
     "execution_count": 22,
     "metadata": {},
     "output_type": "execute_result"
    }
   ],
   "source": [
    "get_neighbours([0,0,0,0,0,1,0,0,0,0])"
   ]
  },
  {
   "cell_type": "markdown",
   "metadata": {},
   "source": [
    "### Hillclimbing"
   ]
  },
  {
   "cell_type": "markdown",
   "metadata": {},
   "source": [
    "The first local search algorithm we consider is very simple: The exploration operator always picks the best neighbour. The result is called _hillclimbing_ because it climbs a hill in the fitness landscape (if we assume a maximisation problem, like in the case of one max). Starting from a random individual, we consider all neighbours, and pick the best one. Then, we repeat this process for this neighbour. The new point in the search space has to be strictly better."
   ]
  },
  {
   "cell_type": "code",
   "execution_count": 23,
   "metadata": {},
   "outputs": [],
   "source": [
    "def hillclimbing():\n",
    "\n",
    "    current = get_random_solution()\n",
    "    best = current[:]\n",
    "    best_fitness = get_fitness(current)\n",
    "    print(f\"Starting at fitness {best_fitness}: {current}\")\n",
    "\n",
    "    for step in range(max_steps):\n",
    "\n",
    "        best_neighbour = None\n",
    "        neighbour_fitness = -1\n",
    "        for neighbour in get_neighbours(current):\n",
    "            fitness = get_fitness(neighbour)\n",
    "\n",
    "            if fitness > neighbour_fitness:\n",
    "                best_neighbour = neighbour\n",
    "                neighbour_fitness = fitness\n",
    "\n",
    "            \n",
    "        if neighbour_fitness > best_fitness:\n",
    "            print(f\"Iteration {step}, fitness {best_fitness}: {best}\")\n",
    "            current = best_neighbour\n",
    "            best = current[:]\n",
    "            best_fitness = neighbour_fitness\n",
    "\n",
    "        fitness_values.append(best_fitness)\n",
    "\n",
    "\n",
    "    print(f\"Solution fitness {best_fitness}: {best}\")\n",
    "    return best"
   ]
  },
  {
   "cell_type": "markdown",
   "metadata": {},
   "source": [
    "When invoking the hillclimber, we need to reset the `fitness_values` list again so we can observe what is happening."
   ]
  },
  {
   "cell_type": "code",
   "execution_count": 24,
   "metadata": {},
   "outputs": [
    {
     "name": "stdout",
     "output_type": "stream",
     "text": [
      "Starting at fitness 9: [0, 1, 1, 0, 1, 0, 1, 1, 0, 0, 0, 1, 0, 1, 0, 0, 1, 0, 1, 0]\n",
      "Iteration 0, fitness 9: [0, 1, 1, 0, 1, 0, 1, 1, 0, 0, 0, 1, 0, 1, 0, 0, 1, 0, 1, 0]\n",
      "Iteration 1, fitness 10: [1, 1, 1, 0, 1, 0, 1, 1, 0, 0, 0, 1, 0, 1, 0, 0, 1, 0, 1, 0]\n",
      "Iteration 2, fitness 11: [1, 1, 1, 1, 1, 0, 1, 1, 0, 0, 0, 1, 0, 1, 0, 0, 1, 0, 1, 0]\n",
      "Iteration 3, fitness 12: [1, 1, 1, 1, 1, 1, 1, 1, 0, 0, 0, 1, 0, 1, 0, 0, 1, 0, 1, 0]\n",
      "Iteration 4, fitness 13: [1, 1, 1, 1, 1, 1, 1, 1, 1, 0, 0, 1, 0, 1, 0, 0, 1, 0, 1, 0]\n",
      "Iteration 5, fitness 14: [1, 1, 1, 1, 1, 1, 1, 1, 1, 1, 0, 1, 0, 1, 0, 0, 1, 0, 1, 0]\n",
      "Iteration 6, fitness 15: [1, 1, 1, 1, 1, 1, 1, 1, 1, 1, 1, 1, 0, 1, 0, 0, 1, 0, 1, 0]\n",
      "Iteration 7, fitness 16: [1, 1, 1, 1, 1, 1, 1, 1, 1, 1, 1, 1, 1, 1, 0, 0, 1, 0, 1, 0]\n",
      "Iteration 8, fitness 17: [1, 1, 1, 1, 1, 1, 1, 1, 1, 1, 1, 1, 1, 1, 1, 0, 1, 0, 1, 0]\n",
      "Iteration 9, fitness 18: [1, 1, 1, 1, 1, 1, 1, 1, 1, 1, 1, 1, 1, 1, 1, 1, 1, 0, 1, 0]\n",
      "Iteration 10, fitness 19: [1, 1, 1, 1, 1, 1, 1, 1, 1, 1, 1, 1, 1, 1, 1, 1, 1, 1, 1, 0]\n",
      "Solution fitness 20: [1, 1, 1, 1, 1, 1, 1, 1, 1, 1, 1, 1, 1, 1, 1, 1, 1, 1, 1, 1]\n"
     ]
    },
    {
     "data": {
      "text/plain": [
       "[1, 1, 1, 1, 1, 1, 1, 1, 1, 1, 1, 1, 1, 1, 1, 1, 1, 1, 1, 1]"
      ]
     },
     "execution_count": 24,
     "metadata": {},
     "output_type": "execute_result"
    }
   ],
   "source": [
    "fitness_values = []\n",
    "hillclimbing()"
   ]
  },
  {
   "cell_type": "markdown",
   "metadata": {},
   "source": [
    "The hillclimber will always find the solution very quickly, no matter how often you repeat the run, within at most `n` steps it will find an optimal solution. Plotting the `fitness_values` shows why the algorithm is called hillclimbing:"
   ]
  },
  {
   "cell_type": "code",
   "execution_count": 25,
   "metadata": {},
   "outputs": [
    {
     "data": {
      "text/plain": [
       "[<matplotlib.lines.Line2D at 0x1092443a0>]"
      ]
     },
     "execution_count": 25,
     "metadata": {},
     "output_type": "execute_result"
    },
    {
     "data": {
      "image/png": "[encoded data removed]",
      "text/plain": [
       "<Figure size 432x288 with 1 Axes>"
      ]
     },
     "metadata": {
      "needs_background": "light"
     },
     "output_type": "display_data"
    }
   ],
   "source": [
    "plt.plot(fitness_values)"
   ]
  },
  {
   "cell_type": "markdown",
   "metadata": {},
   "source": [
    "### The n-queens problem"
   ]
  },
  {
   "cell_type": "markdown",
   "metadata": {},
   "source": [
    "The hillclimber seems perfect on the one max problem. However, not all problems are this easy. Let's consider an alternative problem: In the _n-queens_ problem the aim is to place _n_ queens on an _n_ x _n_ chessboard in\n",
    "such a way that they do not check each other."
   ]
  },
  {
   "cell_type": "markdown",
   "metadata": {},
   "source": [
    "As first step, we need to find a way to encode this problem such that we can apply the search on this encoding. A simple representation is a list of length _n_, where each element of the list is an integer up to _n_. That is, each element of the list maps to a column of the chess board, and the value of the element denotes the row in which a queen is located in this column."
   ]
  },
  {
   "cell_type": "code",
   "execution_count": 26,
   "metadata": {},
   "outputs": [],
   "source": [
    "def get_random_solution():\n",
    "    return [random.randint(0, n - 1) for _ in range(n)]"
   ]
  },
  {
   "cell_type": "code",
   "execution_count": 27,
   "metadata": {},
   "outputs": [
    {
     "data": {
      "text/plain": [
       "[13, 3, 7, 18, 5, 14, 15, 16, 18, 8, 8, 1, 2, 11, 10, 4, 15, 13, 15, 2]"
      ]
     },
     "execution_count": 27,
     "metadata": {},
     "output_type": "execute_result"
    }
   ],
   "source": [
    "get_random_solution()"
   ]
  },
  {
   "cell_type": "markdown",
   "metadata": {},
   "source": [
    "In order to help us interpret such a vector, we can use a simple helper function that visualises the list as a matrix."
   ]
  },
  {
   "cell_type": "code",
   "execution_count": 28,
   "metadata": {},
   "outputs": [],
   "source": [
    "def print_solution(solution):\n",
    "    n = len(solution)\n",
    "    for y in range(n):\n",
    "        for x in range(n):\n",
    "            if solution[x] == y:\n",
    "                print(\" Q \", end = '')\n",
    "            else:\n",
    "                print(\" . \", end = '')\n",
    "        print()"
   ]
  },
  {
   "cell_type": "code",
   "execution_count": 29,
   "metadata": {},
   "outputs": [
    {
     "name": "stdout",
     "output_type": "stream",
     "text": [
      " Q  .  .  .  Q  .  Q  . \n",
      " .  Q  .  .  .  .  .  . \n",
      " .  .  .  .  .  .  .  . \n",
      " .  .  .  .  .  Q  .  . \n",
      " .  .  Q  .  .  .  .  . \n",
      " .  .  .  Q  .  .  .  . \n",
      " .  .  .  .  .  .  .  Q \n",
      " .  .  .  .  .  .  .  . \n"
     ]
    }
   ],
   "source": [
    "n = 8\n",
    "print_solution(get_random_solution())"
   ]
  },
  {
   "cell_type": "markdown",
   "metadata": {},
   "source": [
    "Two queens check each other if they are in the same column, same row, or same diagonal. Since the goal is that no queens check each other, we can formulate an objective function based on how many queens check each other. To be consistent with our previous example, we will make this a _maximisation_ problem, such that the objective function calculates how many queens _don't_ check each other. Using our vector-encoding, there can only be one queen per column by construction. We thus only need to check if queens are in the same row or diagonal. For each pair of queens that does not check each other, we increase our fitness value by 1:"
   ]
  },
  {
   "cell_type": "code",
   "execution_count": 30,
   "metadata": {},
   "outputs": [],
   "source": [
    "def get_fitness(solution):\n",
    "    fitness = 0\n",
    "    for i in range(len(solution) - 1):\n",
    "        for j in range(i + 1, len(solution)):\n",
    "            if solution[i] != solution[j] \\\n",
    "                and solution[i] != solution[j] + (j - i) \\\n",
    "                and solution[j] != solution[i] + (j - i):\n",
    "                fitness += 1\n",
    "\n",
    "    return fitness"
   ]
  },
  {
   "cell_type": "markdown",
   "metadata": {},
   "source": [
    "Here's a simple example of all queens in a row, such that they all check each other -- the fitness is thus 0."
   ]
  },
  {
   "cell_type": "code",
   "execution_count": 31,
   "metadata": {},
   "outputs": [
    {
     "name": "stdout",
     "output_type": "stream",
     "text": [
      " Q  Q  Q  Q  Q  Q  Q  Q \n",
      " .  .  .  .  .  .  .  . \n",
      " .  .  .  .  .  .  .  . \n",
      " .  .  .  .  .  .  .  . \n",
      " .  .  .  .  .  .  .  . \n",
      " .  .  .  .  .  .  .  . \n",
      " .  .  .  .  .  .  .  . \n",
      " .  .  .  .  .  .  .  . \n"
     ]
    },
    {
     "data": {
      "text/plain": [
       "0"
      ]
     },
     "execution_count": 31,
     "metadata": {},
     "output_type": "execute_result"
    }
   ],
   "source": [
    "x = [0,0,0,0,0,0,0,0]\n",
    "print_solution(x)\n",
    "get_fitness(x)"
   ]
  },
  {
   "cell_type": "markdown",
   "metadata": {},
   "source": [
    "Here is a solution where no queens check each other:"
   ]
  },
  {
   "cell_type": "code",
   "execution_count": 32,
   "metadata": {},
   "outputs": [
    {
     "name": "stdout",
     "output_type": "stream",
     "text": [
      " .  Q  .  .  .  .  .  . \n",
      " .  .  .  .  .  Q  .  . \n",
      " .  .  .  .  .  .  .  Q \n",
      " .  .  Q  .  .  .  .  . \n",
      " Q  .  .  .  .  .  .  . \n",
      " .  .  .  Q  .  .  .  . \n",
      " .  .  .  .  .  .  Q  . \n",
      " .  .  .  .  Q  .  .  . \n"
     ]
    },
    {
     "data": {
      "text/plain": [
       "28"
      ]
     },
     "execution_count": 32,
     "metadata": {},
     "output_type": "execute_result"
    }
   ],
   "source": [
    "x = [4, 0, 3, 5, 7, 1, 6, 2]\n",
    "print_solution(x)\n",
    "get_fitness(x)"
   ]
  },
  {
   "cell_type": "markdown",
   "metadata": {},
   "source": [
    "The optimal fitness value is n*(n-1)/2 = 28 for n = 8."
   ]
  },
  {
   "cell_type": "markdown",
   "metadata": {},
   "source": [
    "Before we can apply search on this problem, we need to define the neighbourhood of our problem. In the simplest case, a neighbour moves a queen up or down by one, taking into account the boundaries of the chess board."
   ]
  },
  {
   "cell_type": "code",
   "execution_count": 33,
   "metadata": {},
   "outputs": [],
   "source": [
    "def get_neighbours(solution):\n",
    "    neighbours = []\n",
    "    for i in range(len(solution)):\n",
    "        if solution[i] > 0:\n",
    "            copy = solution[:]\n",
    "            copy[i] = copy[i] - 1\n",
    "            neighbours.append(copy)\n",
    "        if solution[i] < n - 1:\n",
    "            copy = solution[:]\n",
    "            copy[i] = copy[i] + 1\n",
    "            neighbours.append(copy)\n",
    "\n",
    "    return neighbours"
   ]
  },
  {
   "cell_type": "code",
   "execution_count": 34,
   "metadata": {},
   "outputs": [
    {
     "data": {
      "text/plain": [
       "[[3, 4, 4, 4, 4, 4, 4, 4],\n",
       " [5, 4, 4, 4, 4, 4, 4, 4],\n",
       " [4, 3, 4, 4, 4, 4, 4, 4],\n",
       " [4, 5, 4, 4, 4, 4, 4, 4],\n",
       " [4, 4, 3, 4, 4, 4, 4, 4],\n",
       " [4, 4, 5, 4, 4, 4, 4, 4],\n",
       " [4, 4, 4, 3, 4, 4, 4, 4],\n",
       " [4, 4, 4, 5, 4, 4, 4, 4],\n",
       " [4, 4, 4, 4, 3, 4, 4, 4],\n",
       " [4, 4, 4, 4, 5, 4, 4, 4],\n",
       " [4, 4, 4, 4, 4, 3, 4, 4],\n",
       " [4, 4, 4, 4, 4, 5, 4, 4],\n",
       " [4, 4, 4, 4, 4, 4, 3, 4],\n",
       " [4, 4, 4, 4, 4, 4, 5, 4],\n",
       " [4, 4, 4, 4, 4, 4, 4, 3],\n",
       " [4, 4, 4, 4, 4, 4, 4, 5]]"
      ]
     },
     "execution_count": 34,
     "metadata": {},
     "output_type": "execute_result"
    }
   ],
   "source": [
    "get_neighbours([4,4,4,4,4,4,4,4])"
   ]
  },
  {
   "cell_type": "markdown",
   "metadata": {},
   "source": [
    "Let's first try how well random search copes with this problem. Since the problem is quite a bit more difficult than one max, let's also increase the maximum number of steps."
   ]
  },
  {
   "cell_type": "code",
   "execution_count": 35,
   "metadata": {},
   "outputs": [
    {
     "name": "stdout",
     "output_type": "stream",
     "text": [
      "Iteration 0, fitness 18: [4, 5, 3, 7, 4, 3, 0, 3]\n",
      "Iteration 2, fitness 19: [5, 1, 3, 6, 5, 1, 7, 1]\n",
      "Iteration 5, fitness 21: [4, 0, 2, 5, 1, 1, 2, 4]\n",
      "Iteration 14, fitness 22: [0, 7, 3, 6, 4, 2, 7, 1]\n",
      "Iteration 18, fitness 24: [4, 5, 0, 5, 3, 2, 6, 3]\n",
      "Iteration 37, fitness 25: [1, 7, 5, 3, 0, 4, 6, 3]\n",
      "Iteration 753, fitness 26: [4, 0, 3, 5, 7, 2, 0, 7]\n",
      "Solution fitness 26: [4, 0, 3, 5, 7, 2, 0, 7]\n"
     ]
    },
    {
     "data": {
      "text/plain": [
       "[<matplotlib.lines.Line2D at 0x109269400>]"
      ]
     },
     "execution_count": 35,
     "metadata": {},
     "output_type": "execute_result"
    },
    {
     "data": {
      "image/png": "[encoded data removed]",
      "text/plain": [
       "<Figure size 432x288 with 1 Axes>"
      ]
     },
     "metadata": {
      "needs_background": "light"
     },
     "output_type": "display_data"
    }
   ],
   "source": [
    "max_steps = 1000\n",
    "fitness_values = []\n",
    "randomsearch()\n",
    "plt.plot(fitness_values)"
   ]
  },
  {
   "cell_type": "markdown",
   "metadata": {},
   "source": [
    "Now let's compare this to our local search algorithm, hillclimbing:"
   ]
  },
  {
   "cell_type": "code",
   "execution_count": 36,
   "metadata": {},
   "outputs": [
    {
     "name": "stdout",
     "output_type": "stream",
     "text": [
      "Starting at fitness 22: [0, 7, 1, 1, 3, 2, 6, 5]\n",
      "Iteration 0, fitness 22: [0, 7, 1, 1, 3, 2, 6, 5]\n",
      "Solution fitness 23: [0, 7, 1, 1, 3, 2, 7, 5]\n"
     ]
    },
    {
     "data": {
      "text/plain": [
       "[<matplotlib.lines.Line2D at 0x109317f40>]"
      ]
     },
     "execution_count": 36,
     "metadata": {},
     "output_type": "execute_result"
    },
    {
     "data": {
      "image/png": "[encoded data removed]",
      "text/plain": [
       "<Figure size 432x288 with 1 Axes>"
      ]
     },
     "metadata": {
      "needs_background": "light"
     },
     "output_type": "display_data"
    }
   ],
   "source": [
    "fitness_values = []\n",
    "hillclimbing()\n",
    "plt.plot(fitness_values)"
   ]
  },
  {
   "cell_type": "markdown",
   "metadata": {},
   "source": [
    "Is hillclimbing still better than the random search? In many cases, it isn't. The reason is that, unlike for one max, there are _local optima_ in the search space. Our hillclimber is forced to consider only strictly better neighbours, hence it is stuck once it reaches a local optimum. (If we would allow it to move across fitness-plateaux, i.e., neighbours of equal fitness, it might get stuck in an infinite loop.)"
   ]
  },
  {
   "cell_type": "markdown",
   "metadata": {},
   "source": [
    "As an example, consider the following solution:"
   ]
  },
  {
   "cell_type": "code",
   "execution_count": 37,
   "metadata": {},
   "outputs": [
    {
     "name": "stdout",
     "output_type": "stream",
     "text": [
      " .  .  .  Q  .  .  Q  . \n",
      " .  Q  .  .  .  .  .  . \n",
      " .  .  Q  .  .  .  .  . \n",
      " .  .  .  .  .  Q  .  . \n",
      " .  .  .  .  .  .  .  Q \n",
      " .  .  .  .  Q  .  .  . \n",
      " .  .  .  .  .  .  .  . \n",
      " Q  .  .  .  .  .  .  . \n"
     ]
    },
    {
     "data": {
      "text/plain": [
       "25"
      ]
     },
     "execution_count": 37,
     "metadata": {},
     "output_type": "execute_result"
    }
   ],
   "source": [
    "x = [7, 1, 2, 0, 5, 3, 0, 4]\n",
    "print_solution(x)\n",
    "get_fitness(x)"
   ]
  },
  {
   "cell_type": "markdown",
   "metadata": {},
   "source": [
    "Let's consider the fitness values of all the neighbours of this solution:"
   ]
  },
  {
   "cell_type": "code",
   "execution_count": 38,
   "metadata": {},
   "outputs": [
    {
     "name": "stdout",
     "output_type": "stream",
     "text": [
      "[6, 1, 2, 0, 5, 3, 0, 4] -> 24\n",
      "[7, 0, 2, 0, 5, 3, 0, 4] -> 24\n",
      "[7, 2, 2, 0, 5, 3, 0, 4] -> 23\n",
      "[7, 1, 1, 0, 5, 3, 0, 4] -> 24\n",
      "[7, 1, 3, 0, 5, 3, 0, 4] -> 24\n",
      "[7, 1, 2, 1, 5, 3, 0, 4] -> 24\n",
      "[7, 1, 2, 0, 4, 3, 0, 4] -> 21\n",
      "[7, 1, 2, 0, 6, 3, 0, 4] -> 25\n",
      "[7, 1, 2, 0, 5, 2, 0, 4] -> 21\n",
      "[7, 1, 2, 0, 5, 4, 0, 4] -> 23\n",
      "[7, 1, 2, 0, 5, 3, 1, 4] -> 24\n",
      "[7, 1, 2, 0, 5, 3, 0, 3] -> 25\n",
      "[7, 1, 2, 0, 5, 3, 0, 5] -> 24\n"
     ]
    }
   ],
   "source": [
    "for neighbour in get_neighbours([7, 1, 2, 0, 5, 3, 0, 4]):\n",
    "    print(f\"{neighbour} -> {get_fitness(neighbour)}\")"
   ]
  },
  {
   "cell_type": "markdown",
   "metadata": {},
   "source": [
    "As you can see, none of the neighbours of `x` has a better fitness value than `x` itself. The hillclimber has nowhere to go, and is stuck."
   ]
  },
  {
   "cell_type": "markdown",
   "metadata": {},
   "source": [
    "A simple solution to this problem is to use _random restarts_: If the hillclimber is stuck in an optimum, we restart the search from a new random point. With some luck, the next attempt will climb a different optimum."
   ]
  },
  {
   "cell_type": "code",
   "execution_count": 39,
   "metadata": {},
   "outputs": [],
   "source": [
    "def hillclimbing_restart():\n",
    "\n",
    "    current = get_random_solution()\n",
    "    best = current[:]\n",
    "    best_fitness = get_fitness(current)\n",
    "    print(f\"Starting at fitness {best_fitness}: {current}\")\n",
    "\n",
    "    for step in range(max_steps):\n",
    "\n",
    "        best_neighbour = None\n",
    "        neighbour_fitness = -1\n",
    "        for neighbour in get_neighbours(current):\n",
    "            fitness = get_fitness(neighbour)\n",
    "\n",
    "            if fitness > neighbour_fitness:\n",
    "                best_neighbour = neighbour\n",
    "                neighbour_fitness = fitness\n",
    "        \n",
    "        # Random restart if no neighbour is better\n",
    "        if neighbour_fitness <= get_fitness(current):\n",
    "            current = get_random_solution()\n",
    "            neighbour_fitness = get_fitness(current)\n",
    "        else:\n",
    "            current = best_neighbour\n",
    "            \n",
    "        if neighbour_fitness > best_fitness:\n",
    "            print(f\"Iteration {step}, fitness {best_fitness}: {best}\")\n",
    "            best = current[:]\n",
    "            best_fitness = neighbour_fitness\n",
    "            \n",
    "        fitness_values.append(best_fitness)\n",
    "\n",
    "\n",
    "    print(f\"Solution fitness {best_fitness}: {best}\")\n",
    "    return best"
   ]
  },
  {
   "cell_type": "code",
   "execution_count": 40,
   "metadata": {
    "scrolled": true
   },
   "outputs": [
    {
     "name": "stdout",
     "output_type": "stream",
     "text": [
      "Starting at fitness 21: [3, 0, 1, 3, 7, 5, 4, 0]\n",
      "Iteration 0, fitness 21: [3, 0, 1, 3, 7, 5, 4, 0]\n",
      "Iteration 1, fitness 24: [2, 0, 1, 3, 7, 5, 4, 0]\n",
      "Iteration 8, fitness 25: [2, 0, 1, 3, 7, 6, 4, 0]\n",
      "Iteration 55, fitness 26: [6, 4, 0, 3, 5, 7, 1, 6]\n",
      "Solution fitness 28: [3, 1, 7, 5, 0, 2, 4, 6]\n"
     ]
    },
    {
     "data": {
      "text/plain": [
       "[<matplotlib.lines.Line2D at 0x109387760>]"
      ]
     },
     "execution_count": 40,
     "metadata": {},
     "output_type": "execute_result"
    },
    {
     "data": {
      "image/png": "[encoded data removed]",
      "text/plain": [
       "<Figure size 432x288 with 1 Axes>"
      ]
     },
     "metadata": {
      "needs_background": "light"
     },
     "output_type": "display_data"
    }
   ],
   "source": [
    "fitness_values = []\n",
    "hillclimbing_restart()\n",
    "plt.plot(fitness_values)"
   ]
  },
  {
   "cell_type": "markdown",
   "metadata": {},
   "source": [
    "Using the random restarts, the hillclimber tends to be better than before, and better than random search -- even if it still doesn't always find the best solution, depending on what value you choose for `max_steps`."
   ]
  },
  {
   "cell_type": "markdown",
   "metadata": {},
   "source": [
    "The version we considered is called _steepest ascent_ hillclimbing, because it will always explore all neighbours, and then pick the best one. An alternative approach is _first ascent_, which will pick the first neighbour that has a better fitness value."
   ]
  },
  {
   "cell_type": "code",
   "execution_count": 41,
   "metadata": {},
   "outputs": [],
   "source": [
    "def hillclimbing_first_ascent():\n",
    "\n",
    "    current = get_random_solution()\n",
    "    fitness = get_fitness(current)\n",
    "    best = current[:]\n",
    "    best_fitness = fitness\n",
    "    print(f\"Starting at fitness {best_fitness}: {current}\")\n",
    "\n",
    "    for step in range(max_steps):\n",
    "\n",
    "        replaced = False\n",
    "        for neighbour in get_neighbours(current):\n",
    "            neighbour_fitness = get_fitness(neighbour)\n",
    "\n",
    "            if neighbour_fitness > fitness:\n",
    "                current = neighbour\n",
    "                fitness = neighbour_fitness\n",
    "                replaced = True\n",
    "                break\n",
    "\n",
    "        # Random restart if no neighbour is better\n",
    "        if not replaced:\n",
    "            current = get_random_solution()\n",
    "            fitness = get_fitness(current)\n",
    "            \n",
    "        if fitness > best_fitness:\n",
    "            print(f\"Iteration {step}, fitness {best_fitness}: {best}\")\n",
    "            best = current[:]\n",
    "            best_fitness = fitness\n",
    "\n",
    "        fitness_values.append(best_fitness)\n",
    "\n",
    "\n",
    "    print(f\"Solution fitness {best_fitness}: {best}\")\n",
    "    return best"
   ]
  },
  {
   "cell_type": "markdown",
   "metadata": {},
   "source": [
    "For some problems, a first-ascent strategy may be less likely to run into local optima, because it is not so \"eager\" to climb the hill. However, this depends on the problem at hand, and luck. "
   ]
  },
  {
   "cell_type": "code",
   "execution_count": 42,
   "metadata": {},
   "outputs": [
    {
     "name": "stdout",
     "output_type": "stream",
     "text": [
      "Starting at fitness 21: [6, 5, 3, 7, 6, 3, 6, 2]\n",
      "Iteration 0, fitness 21: [6, 5, 3, 7, 6, 3, 6, 2]\n",
      "Iteration 1, fitness 22: [5, 5, 3, 7, 6, 3, 6, 2]\n",
      "Iteration 2, fitness 23: [5, 5, 3, 7, 7, 3, 6, 2]\n",
      "Iteration 3, fitness 24: [5, 5, 4, 7, 7, 3, 6, 2]\n",
      "Iteration 25, fitness 25: [5, 6, 4, 7, 7, 3, 6, 2]\n",
      "Iteration 39, fitness 26: [6, 3, 1, 7, 5, 2, 4, 0]\n",
      "Solution fitness 27: [1, 2, 7, 5, 3, 0, 6, 4]\n"
     ]
    },
    {
     "data": {
      "text/plain": [
       "[<matplotlib.lines.Line2D at 0x1093e6e50>]"
      ]
     },
     "execution_count": 42,
     "metadata": {},
     "output_type": "execute_result"
    },
    {
     "data": {
      "image/png": "[encoded data removed]",
      "text/plain": [
       "<Figure size 432x288 with 1 Axes>"
      ]
     },
     "metadata": {
      "needs_background": "light"
     },
     "output_type": "display_data"
    }
   ],
   "source": [
    "fitness_values = []\n",
    "hillclimbing_first_ascent()\n",
    "plt.plot(fitness_values)"
   ]
  },
  {
   "cell_type": "markdown",
   "metadata": {},
   "source": [
    "For our n-queens problem, is steepest ascent or first ascent better? And is either of them better than random search? To find out, we can run all three algorithms and compare the results."
   ]
  },
  {
   "cell_type": "code",
   "execution_count": 43,
   "metadata": {},
   "outputs": [
    {
     "name": "stdout",
     "output_type": "stream",
     "text": [
      "Iteration 0, fitness 17: [5, 2, 3, 2, 0, 0, 3, 6]\n",
      "Iteration 1, fitness 20: [6, 7, 7, 7, 1, 0, 3, 0]\n",
      "Iteration 5, fitness 25: [3, 7, 0, 2, 1, 5, 6, 4]\n",
      "Iteration 251, fitness 26: [5, 1, 4, 6, 3, 0, 2, 7]\n",
      "Solution fitness 26: [5, 1, 4, 6, 3, 0, 2, 7]\n",
      "Starting at fitness 17: [4, 5, 3, 7, 2, 5, 5, 3]\n",
      "Iteration 0, fitness 17: [4, 5, 3, 7, 2, 5, 5, 3]\n",
      "Iteration 1, fitness 22: [4, 6, 3, 7, 2, 5, 5, 3]\n",
      "Iteration 2, fitness 24: [4, 6, 3, 6, 2, 5, 5, 3]\n",
      "Iteration 28, fitness 25: [4, 7, 3, 6, 2, 5, 5, 3]\n",
      "Iteration 70, fitness 26: [5, 3, 0, 7, 4, 1, 1, 2]\n",
      "Iteration 209, fitness 27: [5, 1, 6, 4, 7, 7, 0, 2]\n",
      "Solution fitness 28: [3, 6, 4, 2, 0, 5, 7, 1]\n",
      "Starting at fitness 21: [1, 5, 1, 3, 7, 0, 1, 7]\n",
      "Iteration 0, fitness 21: [1, 5, 1, 3, 7, 0, 1, 7]\n",
      "Iteration 1, fitness 23: [2, 5, 1, 3, 7, 0, 1, 7]\n",
      "Iteration 2, fitness 24: [2, 5, 1, 4, 7, 0, 1, 7]\n",
      "Iteration 8, fitness 25: [2, 5, 1, 4, 7, 0, 0, 7]\n",
      "Iteration 115, fitness 26: [1, 1, 4, 2, 7, 3, 3, 0]\n",
      "Iteration 236, fitness 27: [7, 4, 2, 0, 6, 3, 5, 1]\n",
      "Solution fitness 28: [2, 4, 6, 0, 3, 1, 7, 5]\n"
     ]
    },
    {
     "data": {
      "text/plain": [
       "<matplotlib.legend.Legend at 0x10932da00>"
      ]
     },
     "execution_count": 43,
     "metadata": {},
     "output_type": "execute_result"
    },
    {
     "data": {
      "image/png": "[encoded data removed]",
      "text/plain": [
       "<Figure size 432x288 with 1 Axes>"
      ]
     },
     "metadata": {
      "needs_background": "light"
     },
     "output_type": "display_data"
    }
   ],
   "source": [
    "fitness_values = []\n",
    "randomsearch()\n",
    "f_random = fitness_values[:]\n",
    "\n",
    "fitness_values = []\n",
    "hillclimbing_restart()\n",
    "f_hill = fitness_values[:]\n",
    "\n",
    "fitness_values = []\n",
    "hillclimbing_first_ascent()\n",
    "f_first = fitness_values[:]\n",
    "\n",
    "plt.plot(f_random, label=\"Random Search\")\n",
    "plt.plot(f_hill, label=\"Hill Climbing (Steepest Ascent)\")\n",
    "plt.plot(f_first, label=\"Hill Climbing (First Ascent)\")\n",
    "plt.legend()"
   ]
  },
  {
   "cell_type": "markdown",
   "metadata": {},
   "source": [
    "There are two problems with this comparison:\n",
    "\n",
    "1. Every time you run the algorithm, you will get a different result. Sometimes one algorithm performs better than another, sometimes it doesn't. There may be trends, though.\n",
    "2. The comparison actually isn't fair. In each iteration, random search considers exactly one candidate solution, steepest ascent considers up to _2*n_ solutions, and first ascent is somewhere in between. "
   ]
  },
  {
   "cell_type": "markdown",
   "metadata": {},
   "source": [
    "To address the first problem, we need to compare multiple runs, not just individual runs. We will get back to this problem in a bit.\n",
    "\n",
    "To make the comparison fair, we need to use a stopping condition that amounts to the same computation time for each algorithm. In practice, one often uses _time_ (because users may not understand the algorithms applied but do have an opinion on how long they are prepared to wait). Another metric for fair comparisons, which we will use, is the number of _fitness evaluations_. This is already what our random search does, but we have to adapt our hillclimbers slightly."
   ]
  },
  {
   "cell_type": "code",
   "execution_count": 44,
   "metadata": {},
   "outputs": [],
   "source": [
    "def hillclimbing_restart():\n",
    "\n",
    "    current = get_random_solution()\n",
    "    best = current[:]\n",
    "    best_fitness = get_fitness(current)\n",
    "    print(f\"Starting at fitness {best_fitness}: {current}\")\n",
    "\n",
    "    step = 0\n",
    "    while step < max_steps:\n",
    "\n",
    "        best_neighbour = None\n",
    "        neighbour_fitness = -1\n",
    "        for neighbour in get_neighbours(current):\n",
    "            fitness = get_fitness(neighbour)\n",
    "            step += 1\n",
    "\n",
    "            if fitness > neighbour_fitness:\n",
    "                best_neighbour = neighbour\n",
    "                neighbour_fitness = fitness\n",
    "                if fitness > best_fitness:\n",
    "                    print(f\"Iteration {step}, fitness {best_fitness}: {best}\")\n",
    "                    best = current[:]\n",
    "                    best_fitness = fitness\n",
    "\n",
    "            fitness_values.append(best_fitness)\n",
    "        \n",
    "        # Random restart if no neighbour is better\n",
    "        if neighbour_fitness <= get_fitness(current):\n",
    "            current = get_random_solution()\n",
    "            neighbour_fitness = get_fitness(current)\n",
    "            step += 1\n",
    "            if fitness > best_fitness:\n",
    "                print(f\"Iteration {step}, fitness {best_fitness}: {best}\")\n",
    "                best = current[:]\n",
    "                best_fitness = fitness\n",
    "                fitness_values.append(best_fitness)\n",
    "        else:\n",
    "            current = best_neighbour\n",
    "\n",
    "    print(f\"Solution fitness {best_fitness}: {best}\")\n",
    "    return best"
   ]
  },
  {
   "cell_type": "code",
   "execution_count": 45,
   "metadata": {},
   "outputs": [],
   "source": [
    "def hillclimbing_first_ascent():\n",
    "\n",
    "    current = get_random_solution()\n",
    "    fitness = get_fitness(current)\n",
    "    best = current[:]\n",
    "    best_fitness = fitness\n",
    "    print(f\"Starting at fitness {best_fitness}: {current}\")\n",
    "\n",
    "    step = 0\n",
    "    while step < max_steps:\n",
    "\n",
    "        replaced = False\n",
    "        for neighbour in get_neighbours(current):\n",
    "            neighbour_fitness = get_fitness(neighbour)\n",
    "            step += 1\n",
    "            if neighbour_fitness > fitness:\n",
    "                current = neighbour\n",
    "                fitness = neighbour_fitness\n",
    "                replaced = True\n",
    "                if fitness > best_fitness:\n",
    "                    print(f\"Iteration {step}, fitness {best_fitness}: {best}\")\n",
    "                    best = current[:]\n",
    "                    best_fitness = fitness\n",
    "\n",
    "                fitness_values.append(best_fitness)\n",
    "                break\n",
    "            else:\n",
    "                fitness_values.append(best_fitness)\n",
    "\n",
    "        # Random restart if no neighbour is better\n",
    "        if not replaced:\n",
    "            current = get_random_solution()\n",
    "            fitness = get_fitness(current)\n",
    "            step += 1\n",
    "            if fitness > best_fitness:\n",
    "                print(f\"Iteration {step}, fitness {best_fitness}: {best}\")\n",
    "                best = current[:]\n",
    "                best_fitness = fitness\n",
    "                fitness_values.append(best_fitness)\n",
    "\n",
    "\n",
    "    print(f\"Solution fitness {best_fitness}: {best}\")\n",
    "    return best"
   ]
  },
  {
   "cell_type": "code",
   "execution_count": 46,
   "metadata": {},
   "outputs": [
    {
     "name": "stdout",
     "output_type": "stream",
     "text": [
      "Iteration 0, fitness 20: [7, 5, 5, 3, 6, 1, 5, 4]\n",
      "Iteration 2, fitness 22: [5, 6, 0, 6, 5, 7, 4, 3]\n",
      "Iteration 5, fitness 23: [7, 0, 6, 6, 1, 5, 3, 2]\n",
      "Iteration 8, fitness 24: [3, 1, 6, 2, 1, 7, 4, 4]\n",
      "Iteration 206, fitness 25: [0, 6, 4, 7, 1, 4, 3, 5]\n",
      "Solution fitness 25: [0, 6, 4, 7, 1, 4, 3, 5]\n",
      "Starting at fitness 22: [4, 1, 4, 5, 3, 1, 3, 7]\n",
      "Iteration 3, fitness 22: [4, 1, 4, 5, 3, 1, 3, 7]\n",
      "Iteration 4, fitness 23: [4, 1, 4, 5, 3, 1, 3, 7]\n",
      "Iteration 21, fitness 24: [4, 1, 4, 5, 3, 1, 3, 7]\n",
      "Iteration 367, fitness 25: [4, 2, 4, 5, 3, 1, 3, 7]\n",
      "Solution fitness 26: [7, 2, 3, 1, 6, 4, 2, 4]\n",
      "Starting at fitness 16: [4, 0, 2, 3, 0, 4, 0, 2]\n",
      "Iteration 1, fitness 16: [4, 0, 2, 3, 0, 4, 0, 2]\n",
      "Iteration 4, fitness 18: [3, 0, 2, 3, 0, 4, 0, 2]\n",
      "Iteration 9, fitness 19: [3, 1, 2, 3, 0, 4, 0, 2]\n",
      "Iteration 17, fitness 20: [3, 1, 1, 3, 0, 4, 0, 2]\n",
      "Iteration 25, fitness 22: [3, 1, 1, 4, 0, 4, 0, 2]\n",
      "Iteration 54, fitness 23: [3, 1, 1, 5, 0, 4, 0, 2]\n",
      "Iteration 69, fitness 24: [0, 2, 3, 6, 4, 1, 1, 4]\n",
      "Iteration 266, fitness 25: [0, 2, 3, 6, 4, 1, 1, 5]\n",
      "Iteration 279, fitness 26: [6, 2, 0, 2, 4, 7, 1, 4]\n",
      "Solution fitness 27: [6, 2, 0, 2, 4, 7, 1, 3]\n"
     ]
    },
    {
     "data": {
      "text/plain": [
       "<matplotlib.legend.Legend at 0x1093d3310>"
      ]
     },
     "execution_count": 46,
     "metadata": {},
     "output_type": "execute_result"
    },
    {
     "data": {
      "image/png": "[encoded data removed]",
      "text/plain": [
       "<Figure size 432x288 with 1 Axes>"
      ]
     },
     "metadata": {
      "needs_background": "light"
     },
     "output_type": "display_data"
    }
   ],
   "source": [
    "fitness_values = []\n",
    "randomsearch()\n",
    "f_random = fitness_values[:]\n",
    "\n",
    "fitness_values = []\n",
    "hillclimbing_restart()\n",
    "f_hill = fitness_values[:]\n",
    "\n",
    "fitness_values = []\n",
    "hillclimbing_first_ascent()\n",
    "f_first = fitness_values[:]\n",
    "\n",
    "plt.plot(f_random, label=\"Random Search\")\n",
    "plt.plot(f_hill, label=\"Hill Climbing (Steepest Ascent)\")\n",
    "plt.plot(f_first, label=\"Hill Climbing (First Ascent)\")\n",
    "plt.legend()"
   ]
  },
  {
   "cell_type": "markdown",
   "metadata": {},
   "source": [
    "There probably isn't a clear winner yet. We will first introduce an algorithm that can cope better with local optima before turning to the question how to compare algorithms."
   ]
  },
  {
   "cell_type": "markdown",
   "metadata": {},
   "source": [
    "## Tabu Search"
   ]
  },
  {
   "cell_type": "markdown",
   "metadata": {},
   "source": [
    "In tabu search, a tabu list prevents re-exploration of already visited parts of search space, but therefore the search is allowed to make moves in the search space that lead to worse fitness (whereas hillclimbing only allows moves that improve fitness)."
   ]
  },
  {
   "cell_type": "markdown",
   "metadata": {},
   "source": [
    "The tabu list is often implemented as a circular buffer, where solutions are added as their fitness is evaluated, and they are removed once they have been in the buffer for a certain number of steps. Let's introduce a parameter to denote the size of our buffer."
   ]
  },
  {
   "cell_type": "code",
   "execution_count": 47,
   "metadata": {},
   "outputs": [],
   "source": [
    "tabu_size = 500"
   ]
  },
  {
   "cell_type": "markdown",
   "metadata": {},
   "source": [
    "The algorithm itself is very similar to hillclimbing, except for the following changes:\n",
    "- Only neighbours that are not in the tabu list are considered\n",
    "- The search moves to the best neighbour, even if that neighbour has worse fitness\n",
    "- The tabu list is updated at each step"
   ]
  },
  {
   "cell_type": "code",
   "execution_count": 48,
   "metadata": {},
   "outputs": [],
   "source": [
    "def tabusearch():\n",
    "    current = get_random_solution()\n",
    "    fitness = get_fitness(current)\n",
    "\n",
    "    tabu = [current]\n",
    "\n",
    "    best_solution = current\n",
    "    best_fitness = fitness\n",
    "\n",
    "    print(f\"Initial solution: {current} fitness {fitness}\")\n",
    "\n",
    "    iteration = 0\n",
    "    step = 0\n",
    "    while step < max_steps:\n",
    "        best_neighbour = None\n",
    "\n",
    "        neighbour_fitness = 0\n",
    "        for neighbour in get_neighbours(current):\n",
    "            if neighbour not in tabu:\n",
    "                new_fitness = get_fitness(neighbour)\n",
    "                step += 1\n",
    "                if new_fitness > neighbour_fitness:\n",
    "                    best_neighbour = neighbour\n",
    "                    neighbour_fitness = new_fitness\n",
    "                    if neighbour_fitness > best_fitness:\n",
    "                        best_fitness = neighbour_fitness\n",
    "                        best_solution = best_neighbour\n",
    "                        print(f\"Iteration: {iteration}, fitness {best_fitness}, steps {step}\")\n",
    "                fitness_values.append(best_fitness)\n",
    "                \n",
    "\n",
    "        # Append at the end of the tabu list\n",
    "        tabu.append(best_neighbour)\n",
    "        current = best_neighbour\n",
    "        \n",
    "        # Remove elements from the front of the tabu list\n",
    "        if len(tabu) > tabu_size:\n",
    "            tabu.pop(0)\n",
    "        \n",
    "        iteration += 1\n",
    "\n",
    "\n",
    "    print(f\"Final solution: {best_solution} fitness {best_fitness} in {step} steps\")\n",
    "\n",
    "    return best_solution"
   ]
  },
  {
   "cell_type": "code",
   "execution_count": 49,
   "metadata": {
    "scrolled": true
   },
   "outputs": [
    {
     "name": "stdout",
     "output_type": "stream",
     "text": [
      "Iteration 0, fitness 21: [0, 2, 4, 2, 1, 5, 6, 6]\n",
      "Iteration 6, fitness 22: [4, 6, 4, 7, 2, 1, 5, 7]\n",
      "Iteration 17, fitness 23: [6, 1, 5, 7, 4, 3, 2, 4]\n",
      "Iteration 24, fitness 24: [5, 7, 4, 1, 7, 6, 1, 0]\n",
      "Iteration 61, fitness 25: [5, 5, 1, 6, 0, 3, 0, 7]\n",
      "Iteration 287, fitness 26: [7, 1, 3, 1, 6, 4, 0, 4]\n",
      "Iteration 1521, fitness 27: [4, 7, 3, 0, 7, 5, 1, 6]\n",
      "Solution fitness 27: [4, 7, 3, 0, 7, 5, 1, 6]\n",
      "Initial solution: [2, 6, 2, 0, 0, 4, 0, 7] fitness 22\n",
      "Iteration: 0, fitness 23, steps 1\n",
      "Iteration: 0, fitness 25, steps 6\n",
      "Iteration: 1, fitness 26, steps 18\n",
      "Iteration: 16, fitness 27, steps 202\n",
      "Iteration: 22, fitness 28, steps 277\n",
      "Final solution: [3, 5, 0, 4, 1, 7, 2, 6] fitness 28 in 5000 steps\n",
      "Starting at fitness 22: [2, 7, 1, 1, 4, 5, 5, 3]\n",
      "Iteration 3, fitness 22: [2, 7, 1, 1, 4, 5, 5, 3]\n",
      "Iteration 15, fitness 23: [2, 6, 1, 1, 4, 5, 5, 3]\n",
      "Iteration 27, fitness 24: [2, 6, 1, 1, 4, 6, 5, 3]\n",
      "Iteration 111, fitness 25: [2, 6, 1, 1, 4, 7, 5, 3]\n",
      "Iteration 497, fitness 26: [3, 6, 0, 2, 5, 1, 2, 4]\n",
      "Iteration 2202, fitness 27: [2, 5, 1, 6, 0, 3, 1, 4]\n",
      "Solution fitness 28: [2, 4, 1, 7, 0, 6, 3, 5]\n"
     ]
    },
    {
     "data": {
      "text/plain": [
       "<matplotlib.legend.Legend at 0x10952eb20>"
      ]
     },
     "execution_count": 49,
     "metadata": {},
     "output_type": "execute_result"
    },
    {
     "data": {
      "image/png": "[encoded data removed]",
      "text/plain": [
       "<Figure size 432x288 with 1 Axes>"
      ]
     },
     "metadata": {
      "needs_background": "light"
     },
     "output_type": "display_data"
    }
   ],
   "source": [
    "max_steps = 5000\n",
    "\n",
    "fitness_values = []\n",
    "randomsearch()\n",
    "f_random = fitness_values[:]\n",
    "\n",
    "fitness_values = []\n",
    "tabusearch()\n",
    "f_tabu = fitness_values[:]\n",
    "\n",
    "fitness_values = []\n",
    "hillclimbing_first_ascent()\n",
    "f_first = fitness_values[:]\n",
    "\n",
    "plt.plot(f_random, label=\"Random Search\")\n",
    "plt.plot(f_tabu, label=\"Tabu Search\")\n",
    "plt.plot(f_first, label=\"Hill Climbing (First Ascent)\")\n",
    "plt.legend()"
   ]
  },
  {
   "cell_type": "markdown",
   "metadata": {},
   "source": [
    "(to be continued November 3)"
   ]
  }
 ],
 "metadata": {
  "kernelspec": {
   "display_name": "Python 3 (ipykernel)",
   "language": "python",
   "name": "python3"
  },
  "language_info": {
   "codemirror_mode": {
    "name": "ipython",
    "version": 3
   },
   "file_extension": ".py",
   "mimetype": "text/x-python",
   "name": "python",
   "nbconvert_exporter": "python",
   "pygments_lexer": "ipython3",
   "version": "3.9.7"
  }
 },
 "nbformat": 4,
 "nbformat_minor": 4
}
